{
  "nbformat": 4,
  "nbformat_minor": 0,
  "metadata": {
    "colab": {
      "name": "TransferLearningByVGG16.ipynb",
      "provenance": [],
      "mount_file_id": "1e0taksnznMwZtoWVLzVCks9QYATntVMP",
      "authorship_tag": "ABX9TyOa3yq+yzIuwd/97Xrl5G7w",
      "include_colab_link": true
    },
    "kernelspec": {
      "name": "python3",
      "display_name": "Python 3"
    },
    "accelerator": "GPU"
  },
  "cells": [
    {
      "cell_type": "markdown",
      "metadata": {
        "id": "view-in-github",
        "colab_type": "text"
      },
      "source": [
        "<a href=\"https://colab.research.google.com/github/oonya/MyPckMachineLearning/blob/main/TransferLearningByVGG16.ipynb\" target=\"_parent\"><img src=\"https://colab.research.google.com/assets/colab-badge.svg\" alt=\"Open In Colab\"/></a>"
      ]
    },
    {
      "cell_type": "code",
      "metadata": {
        "id": "Z6KuOHJO0cM5",
        "outputId": "c9180d9e-5a14-445c-a014-fa2220230c84",
        "colab": {
          "base_uri": "https://localhost:8080/",
          "height": 1000
        }
      },
      "source": [
        "import os\n",
        "import numpy as np\n",
        "import pandas as pd\n",
        "from keras.preprocessing.image import ImageDataGenerator\n",
        "\n",
        "from keras.layers import Dense, GlobalAveragePooling2D,Input\n",
        "import os.path,sys\n",
        "from keras.models import Model\n",
        "from keras.applications.vgg16 import VGG16\n",
        "from keras.preprocessing.image import ImageDataGenerator\n",
        "import keras.callbacks\n",
        "from keras.applications import VGG16\n",
        "from keras.optimizers import Adam\n",
        "\n",
        "base_dir = \"drive/My Drive/picturesForMachineLearning\"\n",
        "train_dir = os.path.join(base_dir, \"train\")\n",
        "valid_dir = os.path.join(base_dir, \"valid\")\n",
        "test_dir = os.path.join(base_dir, \"test\")\n",
        "\n",
        "classes = ['person_img', 'animal_img']\n",
        "classes_num = 2\n",
        "\n",
        "N_CATEGORIES  = 2\n",
        "IMAGE_SIZE = 256\n",
        "BATCH_SIZE = 16\n",
        "\n",
        "#下から数えてダイエットに成功したぽっちゃり体系の女性イラストで制限\n",
        "# ちゃんと変更するTODO\n",
        "NUM_TRAINING = 104+135# person + animal\n",
        "NUM_VALIDATION = 26+34# person + animal\n",
        "\n",
        "conv_base = VGG16(weights='imagenet',\n",
        "                 include_top=False,\n",
        "                 input_shape=(IMAGE_SIZE, IMAGE_SIZE, 3))\n",
        "x = conv_base.output\n",
        "x = GlobalAveragePooling2D()(x)\n",
        "x = Dense(1024, activation='relu')(x)\n",
        "x = Dense(32, activation='relu')(x)\n",
        "predictions = Dense(N_CATEGORIES, activation='softmax')(x)\n",
        "model = Model(inputs=conv_base.input, outputs=predictions)\n",
        "\n",
        "for layer in conv_base.layers:\n",
        "    layer.trainable = False\n",
        "model.compile(optimizer=Adam(lr=5e-4), loss='binary_crossentropy',metrics=['accuracy'])\n",
        "\n",
        "# model.summary()\n",
        "\n",
        "\n",
        "\n",
        "train_datagen = ImageDataGenerator(\n",
        "   rescale=1.0 / 255,)\n",
        "\n",
        "test_datagen = ImageDataGenerator(\n",
        "   rescale=1.0 / 255,\n",
        ")\n",
        "\n",
        "train_generator = train_datagen.flow_from_directory(\n",
        "   train_dir,\n",
        "   target_size=(IMAGE_SIZE, IMAGE_SIZE),\n",
        "   batch_size=BATCH_SIZE,\n",
        "   class_mode='binary',\n",
        "   shuffle=True\n",
        ")\n",
        "\n",
        "validation_generator = test_datagen.flow_from_directory(\n",
        "   valid_dir,\n",
        "   target_size=(IMAGE_SIZE, IMAGE_SIZE),\n",
        "   batch_size=BATCH_SIZE,\n",
        "   class_mode='binary',\n",
        "   shuffle=True\n",
        ")\n",
        "\n",
        "\n",
        "# 時間がかかる場合はこれでバックアップをとる\n",
        "# from keras.callbacks import CSVLogger\n",
        "# from keras.callbacks import ModelCheckpoint\n",
        "\n",
        "# google_drive_dir = 'drive/My Drive'\n",
        "# base_file_name = 'test1'\n",
        "# # Google Driveに逐次モデルのスナップショットを保存\n",
        "# checkpointer = ModelCheckpoint(filepath = google_drive_dir + base_file_name + '.{epoch:02d}-{val_loss:.2f}.hdf5', verbose=1, save_best_only=True, monitor='val_acc', mode='max')\n",
        "# # Google Driveでは学習終了まで反映されない。localに保存\n",
        "# csv_logger = CSVLogger('./xxx.log')\n",
        "\n",
        "# history = model.fit_generator(train_generator,\n",
        "#    steps_per_epoch=NUM_TRAINING//BATCH_SIZE,\n",
        "#    epochs=100,\n",
        "#    verbose=1,\n",
        "#    validation_data=validation_generator,\n",
        "#    validation_steps=NUM_VALIDATION//BATCH_SIZE,\n",
        "#    callbacks=[csv_logger, checkpointer],\n",
        "#    )\n",
        "\n",
        "\n",
        "history = model.fit_generator(train_generator,\n",
        "   steps_per_epoch=NUM_TRAINING//BATCH_SIZE,\n",
        "   epochs=100,\n",
        "   verbose=1,\n",
        "   validation_data=validation_generator,\n",
        "   validation_steps=NUM_VALIDATION//BATCH_SIZE,\n",
        "   )"
      ],
      "execution_count": 1,
      "outputs": [
        {
          "output_type": "stream",
          "text": [
            "Downloading data from https://storage.googleapis.com/tensorflow/keras-applications/vgg16/vgg16_weights_tf_dim_ordering_tf_kernels_notop.h5\n",
            "58892288/58889256 [==============================] - 0s 0us/step\n",
            "Found 240 images belonging to 2 classes.\n",
            "Found 60 images belonging to 2 classes.\n",
            "WARNING:tensorflow:From <ipython-input-1-5ecbea5149f2>:100: Model.fit_generator (from tensorflow.python.keras.engine.training) is deprecated and will be removed in a future version.\n",
            "Instructions for updating:\n",
            "Please use Model.fit, which supports generators.\n"
          ],
          "name": "stdout"
        },
        {
          "output_type": "stream",
          "text": [
            "/usr/local/lib/python3.6/dist-packages/PIL/Image.py:932: UserWarning: Palette images with Transparency expressed in bytes should be converted to RGBA images\n",
            "  \"Palette images with Transparency expressed in bytes should be \"\n"
          ],
          "name": "stderr"
        },
        {
          "output_type": "stream",
          "text": [
            "Epoch 1/100\n",
            "14/14 [==============================] - 147s 10s/step - loss: 0.7023 - accuracy: 0.4241 - val_loss: 0.6942 - val_accuracy: 0.4792\n",
            "Epoch 2/100\n",
            "14/14 [==============================] - 2s 172ms/step - loss: 0.6936 - accuracy: 0.4821 - val_loss: 0.6934 - val_accuracy: 0.4167\n",
            "Epoch 3/100\n",
            "14/14 [==============================] - 2s 170ms/step - loss: 0.6933 - accuracy: 0.5312 - val_loss: 0.6933 - val_accuracy: 0.5417\n",
            "Epoch 4/100\n",
            "14/14 [==============================] - 2s 159ms/step - loss: 0.6932 - accuracy: 0.4777 - val_loss: 0.6933 - val_accuracy: 0.4792\n",
            "Epoch 5/100\n",
            "14/14 [==============================] - 2s 161ms/step - loss: 0.6932 - accuracy: 0.5446 - val_loss: 0.6932 - val_accuracy: 0.4167\n",
            "Epoch 6/100\n",
            "14/14 [==============================] - 2s 174ms/step - loss: 0.6932 - accuracy: 0.4955 - val_loss: 0.6932 - val_accuracy: 0.5000\n",
            "Epoch 7/100\n",
            "14/14 [==============================] - 2s 161ms/step - loss: 0.6932 - accuracy: 0.5312 - val_loss: 0.6933 - val_accuracy: 0.5000\n",
            "Epoch 8/100\n",
            "14/14 [==============================] - 2s 177ms/step - loss: 0.6932 - accuracy: 0.4955 - val_loss: 0.6932 - val_accuracy: 0.5625\n",
            "Epoch 9/100\n",
            "14/14 [==============================] - 3s 179ms/step - loss: 0.6932 - accuracy: 0.5045 - val_loss: 0.6932 - val_accuracy: 0.4167\n",
            "Epoch 10/100\n",
            "14/14 [==============================] - 2s 178ms/step - loss: 0.6932 - accuracy: 0.4955 - val_loss: 0.6932 - val_accuracy: 0.5208\n",
            "Epoch 11/100\n",
            "14/14 [==============================] - 2s 161ms/step - loss: 0.6932 - accuracy: 0.4955 - val_loss: 0.6932 - val_accuracy: 0.4792\n",
            "Epoch 12/100\n",
            "14/14 [==============================] - 2s 168ms/step - loss: 0.6932 - accuracy: 0.4866 - val_loss: 0.6932 - val_accuracy: 0.5625\n",
            "Epoch 13/100\n",
            "14/14 [==============================] - 2s 172ms/step - loss: 0.6932 - accuracy: 0.5134 - val_loss: 0.6932 - val_accuracy: 0.5417\n",
            "Epoch 14/100\n",
            "14/14 [==============================] - 2s 171ms/step - loss: 0.6932 - accuracy: 0.5089 - val_loss: 0.6932 - val_accuracy: 0.5000\n",
            "Epoch 15/100\n",
            "14/14 [==============================] - 2s 171ms/step - loss: 0.6932 - accuracy: 0.5179 - val_loss: 0.6932 - val_accuracy: 0.4792\n",
            "Epoch 16/100\n",
            "14/14 [==============================] - 2s 169ms/step - loss: 0.6932 - accuracy: 0.4777 - val_loss: 0.6932 - val_accuracy: 0.4375\n",
            "Epoch 17/100\n",
            "14/14 [==============================] - 2s 169ms/step - loss: 0.6932 - accuracy: 0.5089 - val_loss: 0.6932 - val_accuracy: 0.5208\n",
            "Epoch 18/100\n",
            "14/14 [==============================] - 2s 171ms/step - loss: 0.6932 - accuracy: 0.5000 - val_loss: 0.6932 - val_accuracy: 0.4583\n",
            "Epoch 19/100\n",
            "14/14 [==============================] - 2s 174ms/step - loss: 0.6932 - accuracy: 0.5312 - val_loss: 0.6932 - val_accuracy: 0.5000\n",
            "Epoch 20/100\n",
            "14/14 [==============================] - 2s 171ms/step - loss: 0.6932 - accuracy: 0.5223 - val_loss: 0.6932 - val_accuracy: 0.4583\n",
            "Epoch 21/100\n",
            "14/14 [==============================] - 2s 156ms/step - loss: 0.6932 - accuracy: 0.4688 - val_loss: 0.6932 - val_accuracy: 0.4375\n",
            "Epoch 22/100\n",
            "14/14 [==============================] - 2s 165ms/step - loss: 0.6932 - accuracy: 0.5580 - val_loss: 0.6932 - val_accuracy: 0.4375\n",
            "Epoch 23/100\n",
            "14/14 [==============================] - 2s 164ms/step - loss: 0.6932 - accuracy: 0.4375 - val_loss: 0.6932 - val_accuracy: 0.4375\n",
            "Epoch 24/100\n",
            "14/14 [==============================] - 2s 151ms/step - loss: 0.6932 - accuracy: 0.4554 - val_loss: 0.6932 - val_accuracy: 0.4167\n",
            "Epoch 25/100\n",
            "14/14 [==============================] - 2s 161ms/step - loss: 0.6932 - accuracy: 0.5089 - val_loss: 0.6932 - val_accuracy: 0.4583\n",
            "Epoch 26/100\n",
            "14/14 [==============================] - 2s 157ms/step - loss: 0.6932 - accuracy: 0.4955 - val_loss: 0.6932 - val_accuracy: 0.4375\n",
            "Epoch 27/100\n",
            "14/14 [==============================] - 2s 165ms/step - loss: 0.6932 - accuracy: 0.4688 - val_loss: 0.6932 - val_accuracy: 0.3542\n",
            "Epoch 28/100\n",
            "14/14 [==============================] - 2s 171ms/step - loss: 0.6932 - accuracy: 0.4732 - val_loss: 0.6932 - val_accuracy: 0.4583\n",
            "Epoch 29/100\n",
            "14/14 [==============================] - 2s 169ms/step - loss: 0.6931 - accuracy: 0.4777 - val_loss: 0.6932 - val_accuracy: 0.4167\n",
            "Epoch 30/100\n",
            "14/14 [==============================] - 2s 169ms/step - loss: 0.6931 - accuracy: 0.5223 - val_loss: 0.6932 - val_accuracy: 0.4583\n",
            "Epoch 31/100\n",
            "14/14 [==============================] - 2s 158ms/step - loss: 0.6931 - accuracy: 0.4732 - val_loss: 0.6932 - val_accuracy: 0.4583\n",
            "Epoch 32/100\n",
            "14/14 [==============================] - 2s 162ms/step - loss: 0.6932 - accuracy: 0.4420 - val_loss: 0.6932 - val_accuracy: 0.4792\n",
            "Epoch 33/100\n",
            "14/14 [==============================] - 2s 172ms/step - loss: 0.6931 - accuracy: 0.4688 - val_loss: 0.6932 - val_accuracy: 0.5000\n",
            "Epoch 34/100\n",
            "14/14 [==============================] - 2s 156ms/step - loss: 0.6931 - accuracy: 0.4955 - val_loss: 0.6932 - val_accuracy: 0.4583\n",
            "Epoch 35/100\n",
            "14/14 [==============================] - 2s 169ms/step - loss: 0.6931 - accuracy: 0.5045 - val_loss: 0.6932 - val_accuracy: 0.4167\n",
            "Epoch 36/100\n",
            "14/14 [==============================] - 2s 168ms/step - loss: 0.6932 - accuracy: 0.5223 - val_loss: 0.6932 - val_accuracy: 0.3958\n",
            "Epoch 37/100\n",
            "14/14 [==============================] - 2s 170ms/step - loss: 0.6932 - accuracy: 0.5179 - val_loss: 0.6932 - val_accuracy: 0.4167\n",
            "Epoch 38/100\n",
            "14/14 [==============================] - 2s 163ms/step - loss: 0.6931 - accuracy: 0.4821 - val_loss: 0.6932 - val_accuracy: 0.4583\n",
            "Epoch 39/100\n",
            "14/14 [==============================] - 2s 170ms/step - loss: 0.6931 - accuracy: 0.5089 - val_loss: 0.6932 - val_accuracy: 0.4583\n",
            "Epoch 40/100\n",
            "14/14 [==============================] - 2s 170ms/step - loss: 0.6931 - accuracy: 0.5446 - val_loss: 0.6932 - val_accuracy: 0.4792\n",
            "Epoch 41/100\n",
            "14/14 [==============================] - 2s 172ms/step - loss: 0.6931 - accuracy: 0.4732 - val_loss: 0.6932 - val_accuracy: 0.5000\n",
            "Epoch 42/100\n",
            "14/14 [==============================] - 2s 166ms/step - loss: 0.6931 - accuracy: 0.4911 - val_loss: 0.6932 - val_accuracy: 0.4792\n",
            "Epoch 43/100\n",
            "14/14 [==============================] - 2s 170ms/step - loss: 0.6931 - accuracy: 0.4866 - val_loss: 0.6932 - val_accuracy: 0.5417\n",
            "Epoch 44/100\n",
            "14/14 [==============================] - 2s 167ms/step - loss: 0.6931 - accuracy: 0.5491 - val_loss: 0.6932 - val_accuracy: 0.5000\n",
            "Epoch 45/100\n",
            "14/14 [==============================] - 2s 161ms/step - loss: 0.6931 - accuracy: 0.5134 - val_loss: 0.6932 - val_accuracy: 0.5208\n",
            "Epoch 46/100\n",
            "14/14 [==============================] - 2s 166ms/step - loss: 0.6931 - accuracy: 0.4732 - val_loss: 0.6932 - val_accuracy: 0.5000\n",
            "Epoch 47/100\n",
            "14/14 [==============================] - 2s 165ms/step - loss: 0.6932 - accuracy: 0.5312 - val_loss: 0.6932 - val_accuracy: 0.4375\n",
            "Epoch 48/100\n",
            "14/14 [==============================] - 2s 162ms/step - loss: 0.6931 - accuracy: 0.4688 - val_loss: 0.6932 - val_accuracy: 0.4167\n",
            "Epoch 49/100\n",
            "14/14 [==============================] - 2s 153ms/step - loss: 0.6931 - accuracy: 0.5134 - val_loss: 0.6932 - val_accuracy: 0.5000\n",
            "Epoch 50/100\n",
            "14/14 [==============================] - 2s 168ms/step - loss: 0.6931 - accuracy: 0.5045 - val_loss: 0.6932 - val_accuracy: 0.5000\n",
            "Epoch 51/100\n",
            "14/14 [==============================] - 2s 156ms/step - loss: 0.6931 - accuracy: 0.5670 - val_loss: 0.6932 - val_accuracy: 0.3958\n",
            "Epoch 52/100\n",
            "14/14 [==============================] - 2s 153ms/step - loss: 0.6931 - accuracy: 0.4911 - val_loss: 0.6932 - val_accuracy: 0.4375\n",
            "Epoch 53/100\n",
            "14/14 [==============================] - 2s 165ms/step - loss: 0.6931 - accuracy: 0.5402 - val_loss: 0.6932 - val_accuracy: 0.5417\n",
            "Epoch 54/100\n",
            "14/14 [==============================] - 2s 168ms/step - loss: 0.6931 - accuracy: 0.4688 - val_loss: 0.6932 - val_accuracy: 0.4583\n",
            "Epoch 55/100\n",
            "14/14 [==============================] - 2s 166ms/step - loss: 0.6931 - accuracy: 0.5268 - val_loss: 0.6932 - val_accuracy: 0.4583\n",
            "Epoch 56/100\n",
            "14/14 [==============================] - 2s 160ms/step - loss: 0.6931 - accuracy: 0.5179 - val_loss: 0.6932 - val_accuracy: 0.5208\n",
            "Epoch 57/100\n",
            "14/14 [==============================] - 2s 168ms/step - loss: 0.6931 - accuracy: 0.5179 - val_loss: 0.6932 - val_accuracy: 0.4375\n",
            "Epoch 58/100\n",
            "14/14 [==============================] - 2s 166ms/step - loss: 0.6931 - accuracy: 0.5223 - val_loss: 0.6932 - val_accuracy: 0.3750\n",
            "Epoch 59/100\n",
            "14/14 [==============================] - 2s 172ms/step - loss: 0.6931 - accuracy: 0.5402 - val_loss: 0.6932 - val_accuracy: 0.4167\n",
            "Epoch 60/100\n",
            "14/14 [==============================] - 2s 174ms/step - loss: 0.6931 - accuracy: 0.4911 - val_loss: 0.6932 - val_accuracy: 0.4583\n",
            "Epoch 61/100\n",
            "14/14 [==============================] - 2s 172ms/step - loss: 0.6931 - accuracy: 0.4598 - val_loss: 0.6932 - val_accuracy: 0.5208\n",
            "Epoch 62/100\n",
            "14/14 [==============================] - 2s 170ms/step - loss: 0.6931 - accuracy: 0.5312 - val_loss: 0.6932 - val_accuracy: 0.4375\n",
            "Epoch 63/100\n",
            "14/14 [==============================] - 2s 167ms/step - loss: 0.6931 - accuracy: 0.4911 - val_loss: 0.6932 - val_accuracy: 0.4375\n",
            "Epoch 64/100\n",
            "14/14 [==============================] - 2s 165ms/step - loss: 0.6931 - accuracy: 0.4955 - val_loss: 0.6932 - val_accuracy: 0.4792\n",
            "Epoch 65/100\n",
            "14/14 [==============================] - 2s 168ms/step - loss: 0.6931 - accuracy: 0.5268 - val_loss: 0.6932 - val_accuracy: 0.4167\n",
            "Epoch 66/100\n",
            "14/14 [==============================] - 2s 168ms/step - loss: 0.6932 - accuracy: 0.4643 - val_loss: 0.6932 - val_accuracy: 0.4792\n",
            "Epoch 67/100\n",
            "14/14 [==============================] - 2s 159ms/step - loss: 0.6932 - accuracy: 0.5179 - val_loss: 0.6932 - val_accuracy: 0.3542\n",
            "Epoch 68/100\n",
            "14/14 [==============================] - 2s 160ms/step - loss: 0.6932 - accuracy: 0.5223 - val_loss: 0.6932 - val_accuracy: 0.3958\n",
            "Epoch 69/100\n",
            "14/14 [==============================] - 2s 158ms/step - loss: 0.6932 - accuracy: 0.5268 - val_loss: 0.6932 - val_accuracy: 0.5000\n",
            "Epoch 70/100\n",
            "14/14 [==============================] - 2s 167ms/step - loss: 0.6932 - accuracy: 0.5938 - val_loss: 0.6932 - val_accuracy: 0.4375\n",
            "Epoch 71/100\n",
            "14/14 [==============================] - 2s 167ms/step - loss: 0.6932 - accuracy: 0.4777 - val_loss: 0.6932 - val_accuracy: 0.5208\n",
            "Epoch 72/100\n",
            "14/14 [==============================] - 2s 165ms/step - loss: 0.6931 - accuracy: 0.5089 - val_loss: 0.6932 - val_accuracy: 0.4375\n",
            "Epoch 73/100\n",
            "14/14 [==============================] - 2s 170ms/step - loss: 0.6931 - accuracy: 0.4509 - val_loss: 0.6932 - val_accuracy: 0.4375\n",
            "Epoch 74/100\n",
            "14/14 [==============================] - 2s 166ms/step - loss: 0.6932 - accuracy: 0.4955 - val_loss: 0.6932 - val_accuracy: 0.4375\n",
            "Epoch 75/100\n",
            "14/14 [==============================] - 2s 159ms/step - loss: 0.6932 - accuracy: 0.5089 - val_loss: 0.6932 - val_accuracy: 0.3750\n",
            "Epoch 76/100\n",
            "14/14 [==============================] - 2s 152ms/step - loss: 0.6932 - accuracy: 0.4643 - val_loss: 0.6932 - val_accuracy: 0.4375\n",
            "Epoch 77/100\n",
            "14/14 [==============================] - 2s 166ms/step - loss: 0.6932 - accuracy: 0.4420 - val_loss: 0.6932 - val_accuracy: 0.3750\n",
            "Epoch 78/100\n",
            "14/14 [==============================] - 2s 160ms/step - loss: 0.6932 - accuracy: 0.5268 - val_loss: 0.6932 - val_accuracy: 0.4792\n",
            "Epoch 79/100\n",
            "14/14 [==============================] - 2s 167ms/step - loss: 0.6932 - accuracy: 0.4107 - val_loss: 0.6932 - val_accuracy: 0.4583\n",
            "Epoch 80/100\n",
            "14/14 [==============================] - 2s 162ms/step - loss: 0.6932 - accuracy: 0.5446 - val_loss: 0.6932 - val_accuracy: 0.5208\n",
            "Epoch 81/100\n",
            "14/14 [==============================] - 2s 160ms/step - loss: 0.6932 - accuracy: 0.5268 - val_loss: 0.6932 - val_accuracy: 0.4792\n",
            "Epoch 82/100\n",
            "14/14 [==============================] - 2s 163ms/step - loss: 0.6932 - accuracy: 0.5000 - val_loss: 0.6932 - val_accuracy: 0.4375\n",
            "Epoch 83/100\n",
            "14/14 [==============================] - 2s 166ms/step - loss: 0.6932 - accuracy: 0.4821 - val_loss: 0.6932 - val_accuracy: 0.5000\n",
            "Epoch 84/100\n",
            "14/14 [==============================] - 2s 161ms/step - loss: 0.6932 - accuracy: 0.5045 - val_loss: 0.6932 - val_accuracy: 0.3750\n",
            "Epoch 85/100\n",
            "14/14 [==============================] - 2s 157ms/step - loss: 0.6932 - accuracy: 0.5134 - val_loss: 0.6932 - val_accuracy: 0.5833\n",
            "Epoch 86/100\n",
            "14/14 [==============================] - 2s 162ms/step - loss: 0.6932 - accuracy: 0.4866 - val_loss: 0.6932 - val_accuracy: 0.3125\n",
            "Epoch 87/100\n",
            "14/14 [==============================] - 2s 158ms/step - loss: 0.6932 - accuracy: 0.5000 - val_loss: 0.6933 - val_accuracy: 0.3958\n",
            "Epoch 88/100\n",
            "14/14 [==============================] - 2s 152ms/step - loss: 0.6932 - accuracy: 0.4688 - val_loss: 0.6933 - val_accuracy: 0.5417\n",
            "Epoch 89/100\n",
            "14/14 [==============================] - 2s 163ms/step - loss: 0.6933 - accuracy: 0.4420 - val_loss: 0.6933 - val_accuracy: 0.5417\n",
            "Epoch 90/100\n",
            "14/14 [==============================] - 2s 163ms/step - loss: 0.6933 - accuracy: 0.5357 - val_loss: 0.6932 - val_accuracy: 0.4583\n",
            "Epoch 91/100\n",
            "14/14 [==============================] - 2s 159ms/step - loss: 0.6933 - accuracy: 0.4821 - val_loss: 0.6935 - val_accuracy: 0.5625\n",
            "Epoch 92/100\n",
            "14/14 [==============================] - 2s 163ms/step - loss: 0.6933 - accuracy: 0.4777 - val_loss: 0.6933 - val_accuracy: 0.4167\n",
            "Epoch 93/100\n",
            "14/14 [==============================] - 2s 164ms/step - loss: 0.6932 - accuracy: 0.5045 - val_loss: 0.6932 - val_accuracy: 0.4583\n",
            "Epoch 94/100\n",
            "14/14 [==============================] - 2s 158ms/step - loss: 0.6932 - accuracy: 0.4732 - val_loss: 0.6933 - val_accuracy: 0.4375\n",
            "Epoch 95/100\n",
            "14/14 [==============================] - 2s 158ms/step - loss: 0.6932 - accuracy: 0.5357 - val_loss: 0.6933 - val_accuracy: 0.5208\n",
            "Epoch 96/100\n",
            "14/14 [==============================] - 2s 164ms/step - loss: 0.6932 - accuracy: 0.4688 - val_loss: 0.6933 - val_accuracy: 0.3958\n",
            "Epoch 97/100\n",
            "14/14 [==============================] - 2s 155ms/step - loss: 0.6932 - accuracy: 0.5536 - val_loss: 0.6932 - val_accuracy: 0.4583\n",
            "Epoch 98/100\n",
            "14/14 [==============================] - 2s 158ms/step - loss: 0.6932 - accuracy: 0.4464 - val_loss: 0.6932 - val_accuracy: 0.5208\n",
            "Epoch 99/100\n",
            "14/14 [==============================] - 2s 162ms/step - loss: 0.6932 - accuracy: 0.5268 - val_loss: 0.6932 - val_accuracy: 0.5625\n",
            "Epoch 100/100\n",
            "14/14 [==============================] - 2s 150ms/step - loss: 0.6932 - accuracy: 0.4777 - val_loss: 0.6932 - val_accuracy: 0.4792\n"
          ],
          "name": "stdout"
        }
      ]
    },
    {
      "cell_type": "code",
      "metadata": {
        "id": "TcvMrj2GRJs6",
        "outputId": "9beaf4b8-5479-47a4-ea4d-60e56d16d136",
        "colab": {
          "base_uri": "https://localhost:8080/",
          "height": 35
        }
      },
      "source": [
        "\n",
        "model.save(filepath='/content/drive/My Drive/VGG16_MyModel.h5', save_format='h5')\n",
        "!ls \n",
        "\n",
        "# !cp VGG16_MyModel.h5  '/content/drive/My Drive/saveFolderForMachineLearning'\n",
        "# !cp  '/content/drive/My Drive/saveFolderForMachineLearning/VGG16_MyModel.h5' ."
      ],
      "execution_count": 2,
      "outputs": [
        {
          "output_type": "stream",
          "text": [
            "drive  sample_data\n"
          ],
          "name": "stdout"
        }
      ]
    },
    {
      "cell_type": "code",
      "metadata": {
        "id": "mgwkvFVqpn4h",
        "outputId": "52d6475b-e051-463a-bfd3-00cb38f7cfe2",
        "colab": {
          "base_uri": "https://localhost:8080/",
          "height": 531
        }
      },
      "source": [
        "result = pd.DataFrame(history.history)\n",
        "result[['loss', 'val_loss']].plot()\n",
        "result[['accuracy', 'val_accuracy']].plot()"
      ],
      "execution_count": 3,
      "outputs": [
        {
          "output_type": "execute_result",
          "data": {
            "text/plain": [
              "<matplotlib.axes._subplots.AxesSubplot at 0x7f553605c128>"
            ]
          },
          "metadata": {
            "tags": []
          },
          "execution_count": 3
        },
        {
          "output_type": "display_data",
          "data": {
            "image/png": "[encoded data removed]",
            "text/plain": [
              "<Figure size 432x288 with 1 Axes>"
            ]
          },
          "metadata": {
            "tags": [],
            "needs_background": "light"
          }
        },
        {
          "output_type": "display_data",
          "data": {
            "image/png": "[encoded data removed]",
            "text/plain": [
              "<Figure size 432x288 with 1 Axes>"
            ]
          },
          "metadata": {
            "tags": [],
            "needs_background": "light"
          }
        }
      ]
    },
    {
      "cell_type": "code",
      "metadata": {
        "id": "9K6EjmO_5qIU",
        "outputId": "a59bfc24-7dc7-4848-ca64-3c2e7e549e60",
        "colab": {
          "base_uri": "https://localhost:8080/",
          "height": 907
        }
      },
      "source": [
        "# import cv2\n",
        "sample = cv2.imread('drive/My Drive/picturesForMachineLearning/train/animal_img/2.png')\n",
        "# print(sample)\n",
        "model.predict(sample)\n",
        "# !ls 'drive/My Drive/picturesForMachineLearning/train'\n",
        "!ls 'drive/My Drive'"
      ],
      "execution_count": 35,
      "outputs": [
        {
          "output_type": "stream",
          "text": [
            "WARNING:tensorflow:Model was constructed with shape (None, 256, 256, 3) for input Tensor(\"input_10:0\", shape=(None, 256, 256, 3), dtype=float32), but it was called on an input with incompatible shape (None, 600, 3).\n"
          ],
          "name": "stdout"
        },
        {
          "output_type": "stream",
          "text": [
            "WARNING:tensorflow:Model was constructed with shape (None, 256, 256, 3) for input Tensor(\"input_10:0\", shape=(None, 256, 256, 3), dtype=float32), but it was called on an input with incompatible shape (None, 600, 3).\n"
          ],
          "name": "stderr"
        },
        {
          "output_type": "error",
          "ename": "ValueError",
          "evalue": "ignored",
          "traceback": [
            "\u001b[0;31m---------------------------------------------------------------------------\u001b[0m",
            "\u001b[0;31mValueError\u001b[0m                                Traceback (most recent call last)",
            "\u001b[0;32m<ipython-input-35-cb7f53cb9711>\u001b[0m in \u001b[0;36m<module>\u001b[0;34m()\u001b[0m\n\u001b[1;32m      2\u001b[0m \u001b[0msample\u001b[0m \u001b[0;34m=\u001b[0m \u001b[0mcv2\u001b[0m\u001b[0;34m.\u001b[0m\u001b[0mimread\u001b[0m\u001b[0;34m(\u001b[0m\u001b[0;34m'drive/My Drive/picturesForMachineLearning/train/animal_img/2.png'\u001b[0m\u001b[0;34m)\u001b[0m\u001b[0;34m\u001b[0m\u001b[0;34m\u001b[0m\u001b[0m\n\u001b[1;32m      3\u001b[0m \u001b[0;31m# print(sample)\u001b[0m\u001b[0;34m\u001b[0m\u001b[0;34m\u001b[0m\u001b[0;34m\u001b[0m\u001b[0m\n\u001b[0;32m----> 4\u001b[0;31m \u001b[0mmodel\u001b[0m\u001b[0;34m.\u001b[0m\u001b[0mpredict\u001b[0m\u001b[0;34m(\u001b[0m\u001b[0msample\u001b[0m\u001b[0;34m)\u001b[0m\u001b[0;34m\u001b[0m\u001b[0;34m\u001b[0m\u001b[0m\n\u001b[0m\u001b[1;32m      5\u001b[0m \u001b[0;31m# !ls 'drive/My Drive/picturesForMachineLearning/train'\u001b[0m\u001b[0;34m\u001b[0m\u001b[0;34m\u001b[0m\u001b[0;34m\u001b[0m\u001b[0m\n\u001b[1;32m      6\u001b[0m \u001b[0mget_ipython\u001b[0m\u001b[0;34m(\u001b[0m\u001b[0;34m)\u001b[0m\u001b[0;34m.\u001b[0m\u001b[0msystem\u001b[0m\u001b[0;34m(\u001b[0m\u001b[0;34m\"ls 'drive/My Drive'\"\u001b[0m\u001b[0;34m)\u001b[0m\u001b[0;34m\u001b[0m\u001b[0;34m\u001b[0m\u001b[0m\n",
            "\u001b[0;32m/usr/local/lib/python3.6/dist-packages/tensorflow/python/keras/engine/training.py\u001b[0m in \u001b[0;36m_method_wrapper\u001b[0;34m(self, *args, **kwargs)\u001b[0m\n\u001b[1;32m    128\u001b[0m       raise ValueError('{} is not supported in multi-worker mode.'.format(\n\u001b[1;32m    129\u001b[0m           method.__name__))\n\u001b[0;32m--> 130\u001b[0;31m     \u001b[0;32mreturn\u001b[0m \u001b[0mmethod\u001b[0m\u001b[0;34m(\u001b[0m\u001b[0mself\u001b[0m\u001b[0;34m,\u001b[0m \u001b[0;34m*\u001b[0m\u001b[0margs\u001b[0m\u001b[0;34m,\u001b[0m \u001b[0;34m**\u001b[0m\u001b[0mkwargs\u001b[0m\u001b[0;34m)\u001b[0m\u001b[0;34m\u001b[0m\u001b[0;34m\u001b[0m\u001b[0m\n\u001b[0m\u001b[1;32m    131\u001b[0m \u001b[0;34m\u001b[0m\u001b[0m\n\u001b[1;32m    132\u001b[0m   return tf_decorator.make_decorator(\n",
            "\u001b[0;32m/usr/local/lib/python3.6/dist-packages/tensorflow/python/keras/engine/training.py\u001b[0m in \u001b[0;36mpredict\u001b[0;34m(self, x, batch_size, verbose, steps, callbacks, max_queue_size, workers, use_multiprocessing)\u001b[0m\n\u001b[1;32m   1597\u001b[0m           \u001b[0;32mfor\u001b[0m \u001b[0mstep\u001b[0m \u001b[0;32min\u001b[0m \u001b[0mdata_handler\u001b[0m\u001b[0;34m.\u001b[0m\u001b[0msteps\u001b[0m\u001b[0;34m(\u001b[0m\u001b[0;34m)\u001b[0m\u001b[0;34m:\u001b[0m\u001b[0;34m\u001b[0m\u001b[0;34m\u001b[0m\u001b[0m\n\u001b[1;32m   1598\u001b[0m             \u001b[0mcallbacks\u001b[0m\u001b[0;34m.\u001b[0m\u001b[0mon_predict_batch_begin\u001b[0m\u001b[0;34m(\u001b[0m\u001b[0mstep\u001b[0m\u001b[0;34m)\u001b[0m\u001b[0;34m\u001b[0m\u001b[0;34m\u001b[0m\u001b[0m\n\u001b[0;32m-> 1599\u001b[0;31m             \u001b[0mtmp_batch_outputs\u001b[0m \u001b[0;34m=\u001b[0m \u001b[0mpredict_function\u001b[0m\u001b[0;34m(\u001b[0m\u001b[0miterator\u001b[0m\u001b[0;34m)\u001b[0m\u001b[0;34m\u001b[0m\u001b[0;34m\u001b[0m\u001b[0m\n\u001b[0m\u001b[1;32m   1600\u001b[0m             \u001b[0;32mif\u001b[0m \u001b[0mdata_handler\u001b[0m\u001b[0;34m.\u001b[0m\u001b[0mshould_sync\u001b[0m\u001b[0;34m:\u001b[0m\u001b[0;34m\u001b[0m\u001b[0;34m\u001b[0m\u001b[0m\n\u001b[1;32m   1601\u001b[0m               \u001b[0mcontext\u001b[0m\u001b[0;34m.\u001b[0m\u001b[0masync_wait\u001b[0m\u001b[0;34m(\u001b[0m\u001b[0;34m)\u001b[0m\u001b[0;34m\u001b[0m\u001b[0;34m\u001b[0m\u001b[0m\n",
            "\u001b[0;32m/usr/local/lib/python3.6/dist-packages/tensorflow/python/eager/def_function.py\u001b[0m in \u001b[0;36m__call__\u001b[0;34m(self, *args, **kwds)\u001b[0m\n\u001b[1;32m    778\u001b[0m       \u001b[0;32melse\u001b[0m\u001b[0;34m:\u001b[0m\u001b[0;34m\u001b[0m\u001b[0;34m\u001b[0m\u001b[0m\n\u001b[1;32m    779\u001b[0m         \u001b[0mcompiler\u001b[0m \u001b[0;34m=\u001b[0m \u001b[0;34m\"nonXla\"\u001b[0m\u001b[0;34m\u001b[0m\u001b[0;34m\u001b[0m\u001b[0m\n\u001b[0;32m--> 780\u001b[0;31m         \u001b[0mresult\u001b[0m \u001b[0;34m=\u001b[0m \u001b[0mself\u001b[0m\u001b[0;34m.\u001b[0m\u001b[0m_call\u001b[0m\u001b[0;34m(\u001b[0m\u001b[0;34m*\u001b[0m\u001b[0margs\u001b[0m\u001b[0;34m,\u001b[0m \u001b[0;34m**\u001b[0m\u001b[0mkwds\u001b[0m\u001b[0;34m)\u001b[0m\u001b[0;34m\u001b[0m\u001b[0;34m\u001b[0m\u001b[0m\n\u001b[0m\u001b[1;32m    781\u001b[0m \u001b[0;34m\u001b[0m\u001b[0m\n\u001b[1;32m    782\u001b[0m       \u001b[0mnew_tracing_count\u001b[0m \u001b[0;34m=\u001b[0m \u001b[0mself\u001b[0m\u001b[0;34m.\u001b[0m\u001b[0m_get_tracing_count\u001b[0m\u001b[0;34m(\u001b[0m\u001b[0;34m)\u001b[0m\u001b[0;34m\u001b[0m\u001b[0;34m\u001b[0m\u001b[0m\n",
            "\u001b[0;32m/usr/local/lib/python3.6/dist-packages/tensorflow/python/eager/def_function.py\u001b[0m in \u001b[0;36m_call\u001b[0;34m(self, *args, **kwds)\u001b[0m\n\u001b[1;32m    821\u001b[0m       \u001b[0;31m# This is the first call of __call__, so we have to initialize.\u001b[0m\u001b[0;34m\u001b[0m\u001b[0;34m\u001b[0m\u001b[0;34m\u001b[0m\u001b[0m\n\u001b[1;32m    822\u001b[0m       \u001b[0minitializers\u001b[0m \u001b[0;34m=\u001b[0m \u001b[0;34m[\u001b[0m\u001b[0;34m]\u001b[0m\u001b[0;34m\u001b[0m\u001b[0;34m\u001b[0m\u001b[0m\n\u001b[0;32m--> 823\u001b[0;31m       \u001b[0mself\u001b[0m\u001b[0;34m.\u001b[0m\u001b[0m_initialize\u001b[0m\u001b[0;34m(\u001b[0m\u001b[0margs\u001b[0m\u001b[0;34m,\u001b[0m \u001b[0mkwds\u001b[0m\u001b[0;34m,\u001b[0m \u001b[0madd_initializers_to\u001b[0m\u001b[0;34m=\u001b[0m\u001b[0minitializers\u001b[0m\u001b[0;34m)\u001b[0m\u001b[0;34m\u001b[0m\u001b[0;34m\u001b[0m\u001b[0m\n\u001b[0m\u001b[1;32m    824\u001b[0m     \u001b[0;32mfinally\u001b[0m\u001b[0;34m:\u001b[0m\u001b[0;34m\u001b[0m\u001b[0;34m\u001b[0m\u001b[0m\n\u001b[1;32m    825\u001b[0m       \u001b[0;31m# At this point we know that the initialization is complete (or less\u001b[0m\u001b[0;34m\u001b[0m\u001b[0;34m\u001b[0m\u001b[0;34m\u001b[0m\u001b[0m\n",
            "\u001b[0;32m/usr/local/lib/python3.6/dist-packages/tensorflow/python/eager/def_function.py\u001b[0m in \u001b[0;36m_initialize\u001b[0;34m(self, args, kwds, add_initializers_to)\u001b[0m\n\u001b[1;32m    695\u001b[0m     self._concrete_stateful_fn = (\n\u001b[1;32m    696\u001b[0m         self._stateful_fn._get_concrete_function_internal_garbage_collected(  # pylint: disable=protected-access\n\u001b[0;32m--> 697\u001b[0;31m             *args, **kwds))\n\u001b[0m\u001b[1;32m    698\u001b[0m \u001b[0;34m\u001b[0m\u001b[0m\n\u001b[1;32m    699\u001b[0m     \u001b[0;32mdef\u001b[0m \u001b[0minvalid_creator_scope\u001b[0m\u001b[0;34m(\u001b[0m\u001b[0;34m*\u001b[0m\u001b[0munused_args\u001b[0m\u001b[0;34m,\u001b[0m \u001b[0;34m**\u001b[0m\u001b[0munused_kwds\u001b[0m\u001b[0;34m)\u001b[0m\u001b[0;34m:\u001b[0m\u001b[0;34m\u001b[0m\u001b[0;34m\u001b[0m\u001b[0m\n",
            "\u001b[0;32m/usr/local/lib/python3.6/dist-packages/tensorflow/python/eager/function.py\u001b[0m in \u001b[0;36m_get_concrete_function_internal_garbage_collected\u001b[0;34m(self, *args, **kwargs)\u001b[0m\n\u001b[1;32m   2853\u001b[0m       \u001b[0margs\u001b[0m\u001b[0;34m,\u001b[0m \u001b[0mkwargs\u001b[0m \u001b[0;34m=\u001b[0m \u001b[0;32mNone\u001b[0m\u001b[0;34m,\u001b[0m \u001b[0;32mNone\u001b[0m\u001b[0;34m\u001b[0m\u001b[0;34m\u001b[0m\u001b[0m\n\u001b[1;32m   2854\u001b[0m     \u001b[0;32mwith\u001b[0m \u001b[0mself\u001b[0m\u001b[0;34m.\u001b[0m\u001b[0m_lock\u001b[0m\u001b[0;34m:\u001b[0m\u001b[0;34m\u001b[0m\u001b[0;34m\u001b[0m\u001b[0m\n\u001b[0;32m-> 2855\u001b[0;31m       \u001b[0mgraph_function\u001b[0m\u001b[0;34m,\u001b[0m \u001b[0m_\u001b[0m\u001b[0;34m,\u001b[0m \u001b[0m_\u001b[0m \u001b[0;34m=\u001b[0m \u001b[0mself\u001b[0m\u001b[0;34m.\u001b[0m\u001b[0m_maybe_define_function\u001b[0m\u001b[0;34m(\u001b[0m\u001b[0margs\u001b[0m\u001b[0;34m,\u001b[0m \u001b[0mkwargs\u001b[0m\u001b[0;34m)\u001b[0m\u001b[0;34m\u001b[0m\u001b[0;34m\u001b[0m\u001b[0m\n\u001b[0m\u001b[1;32m   2856\u001b[0m     \u001b[0;32mreturn\u001b[0m \u001b[0mgraph_function\u001b[0m\u001b[0;34m\u001b[0m\u001b[0;34m\u001b[0m\u001b[0m\n\u001b[1;32m   2857\u001b[0m \u001b[0;34m\u001b[0m\u001b[0m\n",
            "\u001b[0;32m/usr/local/lib/python3.6/dist-packages/tensorflow/python/eager/function.py\u001b[0m in \u001b[0;36m_maybe_define_function\u001b[0;34m(self, args, kwargs)\u001b[0m\n\u001b[1;32m   3211\u001b[0m \u001b[0;34m\u001b[0m\u001b[0m\n\u001b[1;32m   3212\u001b[0m       \u001b[0mself\u001b[0m\u001b[0;34m.\u001b[0m\u001b[0m_function_cache\u001b[0m\u001b[0;34m.\u001b[0m\u001b[0mmissed\u001b[0m\u001b[0;34m.\u001b[0m\u001b[0madd\u001b[0m\u001b[0;34m(\u001b[0m\u001b[0mcall_context_key\u001b[0m\u001b[0;34m)\u001b[0m\u001b[0;34m\u001b[0m\u001b[0;34m\u001b[0m\u001b[0m\n\u001b[0;32m-> 3213\u001b[0;31m       \u001b[0mgraph_function\u001b[0m \u001b[0;34m=\u001b[0m \u001b[0mself\u001b[0m\u001b[0;34m.\u001b[0m\u001b[0m_create_graph_function\u001b[0m\u001b[0;34m(\u001b[0m\u001b[0margs\u001b[0m\u001b[0;34m,\u001b[0m \u001b[0mkwargs\u001b[0m\u001b[0;34m)\u001b[0m\u001b[0;34m\u001b[0m\u001b[0;34m\u001b[0m\u001b[0m\n\u001b[0m\u001b[1;32m   3214\u001b[0m       \u001b[0mself\u001b[0m\u001b[0;34m.\u001b[0m\u001b[0m_function_cache\u001b[0m\u001b[0;34m.\u001b[0m\u001b[0mprimary\u001b[0m\u001b[0;34m[\u001b[0m\u001b[0mcache_key\u001b[0m\u001b[0;34m]\u001b[0m \u001b[0;34m=\u001b[0m \u001b[0mgraph_function\u001b[0m\u001b[0;34m\u001b[0m\u001b[0;34m\u001b[0m\u001b[0m\n\u001b[1;32m   3215\u001b[0m       \u001b[0;32mreturn\u001b[0m \u001b[0mgraph_function\u001b[0m\u001b[0;34m,\u001b[0m \u001b[0margs\u001b[0m\u001b[0;34m,\u001b[0m \u001b[0mkwargs\u001b[0m\u001b[0;34m\u001b[0m\u001b[0;34m\u001b[0m\u001b[0m\n",
            "\u001b[0;32m/usr/local/lib/python3.6/dist-packages/tensorflow/python/eager/function.py\u001b[0m in \u001b[0;36m_create_graph_function\u001b[0;34m(self, args, kwargs, override_flat_arg_shapes)\u001b[0m\n\u001b[1;32m   3073\u001b[0m             \u001b[0marg_names\u001b[0m\u001b[0;34m=\u001b[0m\u001b[0marg_names\u001b[0m\u001b[0;34m,\u001b[0m\u001b[0;34m\u001b[0m\u001b[0;34m\u001b[0m\u001b[0m\n\u001b[1;32m   3074\u001b[0m             \u001b[0moverride_flat_arg_shapes\u001b[0m\u001b[0;34m=\u001b[0m\u001b[0moverride_flat_arg_shapes\u001b[0m\u001b[0;34m,\u001b[0m\u001b[0;34m\u001b[0m\u001b[0;34m\u001b[0m\u001b[0m\n\u001b[0;32m-> 3075\u001b[0;31m             capture_by_value=self._capture_by_value),\n\u001b[0m\u001b[1;32m   3076\u001b[0m         \u001b[0mself\u001b[0m\u001b[0;34m.\u001b[0m\u001b[0m_function_attributes\u001b[0m\u001b[0;34m,\u001b[0m\u001b[0;34m\u001b[0m\u001b[0;34m\u001b[0m\u001b[0m\n\u001b[1;32m   3077\u001b[0m         \u001b[0mfunction_spec\u001b[0m\u001b[0;34m=\u001b[0m\u001b[0mself\u001b[0m\u001b[0;34m.\u001b[0m\u001b[0mfunction_spec\u001b[0m\u001b[0;34m,\u001b[0m\u001b[0;34m\u001b[0m\u001b[0;34m\u001b[0m\u001b[0m\n",
            "\u001b[0;32m/usr/local/lib/python3.6/dist-packages/tensorflow/python/framework/func_graph.py\u001b[0m in \u001b[0;36mfunc_graph_from_py_func\u001b[0;34m(name, python_func, args, kwargs, signature, func_graph, autograph, autograph_options, add_control_dependencies, arg_names, op_return_value, collections, capture_by_value, override_flat_arg_shapes)\u001b[0m\n\u001b[1;32m    984\u001b[0m         \u001b[0m_\u001b[0m\u001b[0;34m,\u001b[0m \u001b[0moriginal_func\u001b[0m \u001b[0;34m=\u001b[0m \u001b[0mtf_decorator\u001b[0m\u001b[0;34m.\u001b[0m\u001b[0munwrap\u001b[0m\u001b[0;34m(\u001b[0m\u001b[0mpython_func\u001b[0m\u001b[0;34m)\u001b[0m\u001b[0;34m\u001b[0m\u001b[0;34m\u001b[0m\u001b[0m\n\u001b[1;32m    985\u001b[0m \u001b[0;34m\u001b[0m\u001b[0m\n\u001b[0;32m--> 986\u001b[0;31m       \u001b[0mfunc_outputs\u001b[0m \u001b[0;34m=\u001b[0m \u001b[0mpython_func\u001b[0m\u001b[0;34m(\u001b[0m\u001b[0;34m*\u001b[0m\u001b[0mfunc_args\u001b[0m\u001b[0;34m,\u001b[0m \u001b[0;34m**\u001b[0m\u001b[0mfunc_kwargs\u001b[0m\u001b[0;34m)\u001b[0m\u001b[0;34m\u001b[0m\u001b[0;34m\u001b[0m\u001b[0m\n\u001b[0m\u001b[1;32m    987\u001b[0m \u001b[0;34m\u001b[0m\u001b[0m\n\u001b[1;32m    988\u001b[0m       \u001b[0;31m# invariant: `func_outputs` contains only Tensors, CompositeTensors,\u001b[0m\u001b[0;34m\u001b[0m\u001b[0;34m\u001b[0m\u001b[0;34m\u001b[0m\u001b[0m\n",
            "\u001b[0;32m/usr/local/lib/python3.6/dist-packages/tensorflow/python/eager/def_function.py\u001b[0m in \u001b[0;36mwrapped_fn\u001b[0;34m(*args, **kwds)\u001b[0m\n\u001b[1;32m    598\u001b[0m         \u001b[0;31m# __wrapped__ allows AutoGraph to swap in a converted function. We give\u001b[0m\u001b[0;34m\u001b[0m\u001b[0;34m\u001b[0m\u001b[0;34m\u001b[0m\u001b[0m\n\u001b[1;32m    599\u001b[0m         \u001b[0;31m# the function a weak reference to itself to avoid a reference cycle.\u001b[0m\u001b[0;34m\u001b[0m\u001b[0;34m\u001b[0m\u001b[0;34m\u001b[0m\u001b[0m\n\u001b[0;32m--> 600\u001b[0;31m         \u001b[0;32mreturn\u001b[0m \u001b[0mweak_wrapped_fn\u001b[0m\u001b[0;34m(\u001b[0m\u001b[0;34m)\u001b[0m\u001b[0;34m.\u001b[0m\u001b[0m__wrapped__\u001b[0m\u001b[0;34m(\u001b[0m\u001b[0;34m*\u001b[0m\u001b[0margs\u001b[0m\u001b[0;34m,\u001b[0m \u001b[0;34m**\u001b[0m\u001b[0mkwds\u001b[0m\u001b[0;34m)\u001b[0m\u001b[0;34m\u001b[0m\u001b[0;34m\u001b[0m\u001b[0m\n\u001b[0m\u001b[1;32m    601\u001b[0m     \u001b[0mweak_wrapped_fn\u001b[0m \u001b[0;34m=\u001b[0m \u001b[0mweakref\u001b[0m\u001b[0;34m.\u001b[0m\u001b[0mref\u001b[0m\u001b[0;34m(\u001b[0m\u001b[0mwrapped_fn\u001b[0m\u001b[0;34m)\u001b[0m\u001b[0;34m\u001b[0m\u001b[0;34m\u001b[0m\u001b[0m\n\u001b[1;32m    602\u001b[0m \u001b[0;34m\u001b[0m\u001b[0m\n",
            "\u001b[0;32m/usr/local/lib/python3.6/dist-packages/tensorflow/python/framework/func_graph.py\u001b[0m in \u001b[0;36mwrapper\u001b[0;34m(*args, **kwargs)\u001b[0m\n\u001b[1;32m    971\u001b[0m           \u001b[0;32mexcept\u001b[0m \u001b[0mException\u001b[0m \u001b[0;32mas\u001b[0m \u001b[0me\u001b[0m\u001b[0;34m:\u001b[0m  \u001b[0;31m# pylint:disable=broad-except\u001b[0m\u001b[0;34m\u001b[0m\u001b[0;34m\u001b[0m\u001b[0m\n\u001b[1;32m    972\u001b[0m             \u001b[0;32mif\u001b[0m \u001b[0mhasattr\u001b[0m\u001b[0;34m(\u001b[0m\u001b[0me\u001b[0m\u001b[0;34m,\u001b[0m \u001b[0;34m\"ag_error_metadata\"\u001b[0m\u001b[0;34m)\u001b[0m\u001b[0;34m:\u001b[0m\u001b[0;34m\u001b[0m\u001b[0;34m\u001b[0m\u001b[0m\n\u001b[0;32m--> 973\u001b[0;31m               \u001b[0;32mraise\u001b[0m \u001b[0me\u001b[0m\u001b[0;34m.\u001b[0m\u001b[0mag_error_metadata\u001b[0m\u001b[0;34m.\u001b[0m\u001b[0mto_exception\u001b[0m\u001b[0;34m(\u001b[0m\u001b[0me\u001b[0m\u001b[0;34m)\u001b[0m\u001b[0;34m\u001b[0m\u001b[0;34m\u001b[0m\u001b[0m\n\u001b[0m\u001b[1;32m    974\u001b[0m             \u001b[0;32melse\u001b[0m\u001b[0;34m:\u001b[0m\u001b[0;34m\u001b[0m\u001b[0;34m\u001b[0m\u001b[0m\n\u001b[1;32m    975\u001b[0m               \u001b[0;32mraise\u001b[0m\u001b[0;34m\u001b[0m\u001b[0;34m\u001b[0m\u001b[0m\n",
            "\u001b[0;31mValueError\u001b[0m: in user code:\n\n    /usr/local/lib/python3.6/dist-packages/tensorflow/python/keras/engine/training.py:1462 predict_function  *\n        return step_function(self, iterator)\n    /usr/local/lib/python3.6/dist-packages/tensorflow/python/keras/engine/training.py:1452 step_function  **\n        outputs = model.distribute_strategy.run(run_step, args=(data,))\n    /usr/local/lib/python3.6/dist-packages/tensorflow/python/distribute/distribute_lib.py:1211 run\n        return self._extended.call_for_each_replica(fn, args=args, kwargs=kwargs)\n    /usr/local/lib/python3.6/dist-packages/tensorflow/python/distribute/distribute_lib.py:2585 call_for_each_replica\n        return self._call_for_each_replica(fn, args, kwargs)\n    /usr/local/lib/python3.6/dist-packages/tensorflow/python/distribute/distribute_lib.py:2945 _call_for_each_replica\n        return fn(*args, **kwargs)\n    /usr/local/lib/python3.6/dist-packages/tensorflow/python/keras/engine/training.py:1445 run_step  **\n        outputs = model.predict_step(data)\n    /usr/local/lib/python3.6/dist-packages/tensorflow/python/keras/engine/training.py:1418 predict_step\n        return self(x, training=False)\n    /usr/local/lib/python3.6/dist-packages/tensorflow/python/keras/engine/base_layer.py:985 __call__\n        outputs = call_fn(inputs, *args, **kwargs)\n    /usr/local/lib/python3.6/dist-packages/tensorflow/python/keras/engine/functional.py:386 call\n        inputs, training=training, mask=mask)\n    /usr/local/lib/python3.6/dist-packages/tensorflow/python/keras/engine/functional.py:508 _run_internal_graph\n        outputs = node.layer(*args, **kwargs)\n    /usr/local/lib/python3.6/dist-packages/tensorflow/python/keras/engine/base_layer.py:976 __call__\n        self.name)\n    /usr/local/lib/python3.6/dist-packages/tensorflow/python/keras/engine/input_spec.py:196 assert_input_compatibility\n        str(x.shape.as_list()))\n\n    ValueError: Input 0 of layer block1_conv1 is incompatible with the layer: : expected min_ndim=4, found ndim=3. Full shape received: [None, 600, 3]\n"
          ]
        }
      ]
    },
    {
      "cell_type": "code",
      "metadata": {
        "id": "as_Is0c5riUD"
      },
      "source": [
        "# import keras\n",
        "# from keras.datasets import mnist\n",
        "# import matplotlib.pyplot as plt\n",
        "\n",
        "# from keras.layers import Dense, GlobalAveragePooling2D,Input\n",
        "# import os.path,sys\n",
        "# from keras.models import Model\n",
        "# from keras.applications.vgg16 import VGG16\n",
        "# from keras.preprocessing.image import ImageDataGenerator\n",
        "# import keras.callbacks\n",
        "# from keras.applications import VGG16\n",
        "# from keras.optimizers import Adam\n",
        "\n",
        "# import tensorflow_datasets as tfds\n",
        "\n",
        "# batch_size = 128\n",
        "# num_classes = 10\n",
        "# image_size = 160\n",
        "\n",
        "# # the data, shuffled and split between train and test sets\n",
        "# (raw_train, raw_test), metadata = tfds.load(\n",
        "#     'cats_vs_dogs',\n",
        "#     split=['train[:80%]', 'train[80%:]'],\n",
        "#     with_info=True,\n",
        "#     as_supervised=True,\n",
        "# )"
      ],
      "execution_count": null,
      "outputs": []
    }
  ]
}